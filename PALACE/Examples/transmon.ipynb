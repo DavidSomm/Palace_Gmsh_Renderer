{
 "cells": [
  {
   "cell_type": "markdown",
   "metadata": {},
   "source": [
    "# Qiskit Metal Design"
   ]
  },
  {
   "cell_type": "code",
   "execution_count": 2,
   "metadata": {},
   "outputs": [],
   "source": [
    "# Import useful packages\n",
    "import qiskit_metal as metal\n",
    "from qiskit_metal import designs, draw\n",
    "from qiskit_metal import MetalGUI, Dict, open_docs\n",
    "from qiskit_metal.toolbox_metal import math_and_overrides\n",
    "from qiskit_metal.qlibrary.core import QComponent\n",
    "from collections import OrderedDict\n",
    "\n",
    "# To create plots after geting solution data.\n",
    "import matplotlib.pyplot as plt\n",
    "import numpy as np\n",
    "\n",
    "# Packages for the simple design\n",
    "from qiskit_metal.qlibrary.tlines.meandered import RouteMeander\n",
    "from qiskit_metal.qlibrary.tlines.straight_path import RouteStraight\n",
    "from qiskit_metal.qlibrary.tlines.pathfinder import RoutePathfinder\n",
    "from qiskit_metal.qlibrary.terminations.launchpad_wb import LaunchpadWirebond\n",
    "from qiskit_metal.qlibrary.terminations.open_to_ground import OpenToGround\n",
    "from qiskit_metal.qlibrary.terminations.short_to_ground import ShortToGround\n",
    "from qiskit_metal.qlibrary.couplers.coupled_line_tee import CoupledLineTee\n",
    "\n",
    "# Analysis\n",
    "# from qiskit_metal.renderers.renderer_gds.gds_renderer import QGDSRenderer\n",
    "# from qiskit_metal.analyses.quantization import EPRanalysis\n",
    "from qiskit_metal.analyses.quantization import EPRanalysis\n",
    "from qiskit_metal.analyses.simulation import ScatteringImpedanceSim\n",
    "from qiskit_metal.analyses.sweep_and_optimize.sweeping import Sweeping\n",
    "import pyEPR as epr\n",
    "import numpy as np\n",
    "\n",
    "# Set up chip design as multiplanar to use Gmesh/Elmer\n",
    "design = designs.DesignPlanar({}, overwrite_enabled=True)\n",
    "\n",
    "# Set up chip dimensions \n",
    "design.chips.main.size.size_x = '4.6mm'\n",
    "design.chips.main.size.size_y = '2.4mm'\n",
    "design.chips.main.size.size_z = '-280um'\n",
    "design.chips.main.size.center_x = '0mm'\n",
    "design.chips.main.size.center_y = '-1mm'\n",
    "\n",
    "\n",
    "# Resonator and feedline gap width (W) and center conductor width (S) from reference 2\n",
    "design.variables['cpw_width'] = '10 um' #S from reference 2\n",
    "design.variables['cpw_gap'] = '6 um' #W from reference 2\n",
    "\n",
    "\n",
    "# Create GUI\n",
    "gui = MetalGUI(design)\n",
    "\n",
    "# Lauchpad 1\n",
    "x1 = '-2.015mm'\n",
    "y1 = '0mm'\n",
    "launch_options1 = dict(chip='main', pos_x=x1, pos_y=y1, orientation='360', lead_length='30um', pad_height='103um', \n",
    "                      pad_width='103um', pad_gap='60um')\n",
    "LP1 = LaunchpadWirebond(design, 'LP1', options = launch_options1)\n",
    "\n",
    "# Launchpad 2\n",
    "x2 = '2.015mm'\n",
    "y1 = '0mm'\n",
    "launch_options2 = dict(chip='main', pos_x=x2, pos_y=y1, orientation='180', lead_length='30um', pad_height='103um', \n",
    "                      pad_width='103um', pad_gap='60um')\n",
    "LP2 = LaunchpadWirebond(design, 'LP2', options = launch_options2)\n",
    "\n",
    "# Using path finder to connect the two launchpads\n",
    "TL = RoutePathfinder(design, 'TL', options = dict(chip='main', trace_width ='10um',\n",
    "                                            trace_gap ='6um',\n",
    "                                            fillet='90um',                                                            \n",
    "                                            hfss_wire_bonds = True,\n",
    "                                            lead=dict(end_straight='0.1mm'),\n",
    "                                            pin_inputs=Dict(\n",
    "                                                start_pin=Dict(\n",
    "                                                    component='LP1',\n",
    "                                                    pin='tie'),\n",
    "                                                end_pin=Dict(\n",
    "                                                    component='LP2',\n",
    "                                                    pin='tie')\n",
    "                                            )))\n",
    "\n",
    "######################\n",
    "#      Transmon      #\n",
    "######################\n",
    "\n",
    "from qiskit_metal.qlibrary.qubits.transmon_pocket_teeth import TransmonPocketTeeth\n",
    "\n",
    "Q1 = TransmonPocketTeeth(design,'Qubit1', options = dict(\n",
    "        pos_x='0.5mm',\n",
    "        pos_y='-1.35mm',\n",
    "        orientation = '90',\n",
    "        pad_gap ='30um',                       \n",
    "        inductor_width    = '20um',                       \n",
    "        pad_width       = '400um',                      \n",
    "        pad_height       = '90um',                       \n",
    "        pocket_width    = '650um',                      \n",
    "        pocket_height    = '650um',                      \n",
    "        coupled_pad_height= '30um',                      \n",
    "        coupled_pad_width = '20um',                       \n",
    "        coupled_pad_gap   = '50um',\n",
    "        gds_cell_name ='FakeJunction_01',\n",
    "        hfss_inductance ='14nH',\n",
    "        connection_pads = dict(\n",
    "            readout = dict(loc_W=0, loc_H=1, pad_height = '50um', pad_width= '20um', cpw_extend = '20um', pad_cpw_shift='-0', pad_gap ='10um')\n",
    "            )))\n",
    "\n",
    "#######################\n",
    "# lambda/4 resonator1 #\n",
    "#######################\n",
    "otg1 = OpenToGround(design, 'otg1', options=dict(chip='main', pos_x='-0.5mm',  pos_y='-40um', orientation = 180))\n",
    "#stg1 = ShortToGround(design, 'stg1', options=dict(chip='main', pos_x='0mm',  pos_y='-1.35mm', orientation = -90))\n",
    "\n",
    "# Use RouteMeander to fix the total length of the resonator\n",
    "res1 = RouteMeander(design, 'resonator1',  Dict(\n",
    "        trace_width ='10um',\n",
    "        trace_gap ='6um',\n",
    "        total_length='3.7mm',\n",
    "        hfss_wire_bonds = True,\n",
    "        fillet='99.9 um',\n",
    "        lead = dict(start_straight='300um'),\n",
    "        pin_inputs=Dict(\n",
    "        start_pin=Dict(component='otg1', pin='open'),\n",
    "        end_pin=Dict(component='Qubit1', pin='readout')), ))\n",
    "\n",
    "# rebuild the GUI\n",
    "gui.rebuild()"
   ]
  },
  {
   "cell_type": "markdown",
   "metadata": {},
   "source": [
    "# SQD Gmsh Renderer"
   ]
  },
  {
   "cell_type": "code",
   "execution_count": 3,
   "metadata": {},
   "outputs": [
    {
     "name": "stdout",
     "output_type": "stream",
     "text": [
      "drawing polygon: LP1\n",
      "drawing polygon: LP2\n",
      "drawing path: TL\n",
      "drawing path: Qubit1\n",
      "drawing polygon: Qubit1\n",
      "drawing junction: Qubit1\n",
      "drawing polygon: otg1\n",
      "drawing path: resonator1\n",
      "\n",
      "Physical Groups\n",
      "name: LP1\t\t identifier: 1\n",
      "name: LP2\t\t identifier: 2\n",
      "name: TL\t\t identifier: 3\n",
      "name: Qubit1\t\t identifier: 4\n",
      "name: Qubit1_9\t\t identifier: 5\n",
      "name: Qubit1_10\t\t identifier: 6\n",
      "name: Qubit1_12\t\t identifier: 7\n",
      "name: Qubit1_13\t\t identifier: 8\n",
      "name: resonator1\t\t identifier: 9\n",
      "name: port_LP1a\t\t identifier: 10\n",
      "name: port_LP1b\t\t identifier: 11\n",
      "name: port_LP2a\t\t identifier: 12\n",
      "name: port_LP2b\t\t identifier: 13\n",
      "name: ground_plane\t\t identifier: 14\n",
      "name: far_field\t\t identifier: 17\n",
      "name: dielectric_base\t\t identifier: 15\n",
      "name: air_box\t\t identifier: 16\n"
     ]
    },
    {
     "ename": "Exception",
     "evalue": "Fuse operation cannot be performed",
     "output_type": "error",
     "traceback": [
      "\u001b[1;31m---------------------------------------------------------------------------\u001b[0m",
      "\u001b[1;31mException\u001b[0m                                 Traceback (most recent call last)",
      "\u001b[1;32m~\\AppData\\Local\\Temp\\ipykernel_31664\\3609129457.py\u001b[0m in \u001b[0;36m?\u001b[1;34m()\u001b[0m\n\u001b[0;32m     19\u001b[0m \u001b[0mpgr\u001b[0m\u001b[1;33m.\u001b[0m\u001b[0mprint_physical_groups\u001b[0m\u001b[1;33m(\u001b[0m\u001b[1;33m)\u001b[0m\u001b[1;33m\u001b[0m\u001b[1;33m\u001b[0m\u001b[0m\n\u001b[0;32m     20\u001b[0m \u001b[1;33m\u001b[0m\u001b[0m\n\u001b[0;32m     21\u001b[0m \u001b[1;31m#gmsh.model.occ.healShapes(, tolerance=1e-6)\u001b[0m\u001b[1;33m\u001b[0m\u001b[1;33m\u001b[0m\u001b[0m\n\u001b[0;32m     22\u001b[0m \u001b[0ma\u001b[0m \u001b[1;33m=\u001b[0m \u001b[0mgmsh\u001b[0m\u001b[1;33m.\u001b[0m\u001b[0mmodel\u001b[0m\u001b[1;33m.\u001b[0m\u001b[0mocc\u001b[0m\u001b[1;33m.\u001b[0m\u001b[0mextrude\u001b[0m\u001b[1;33m(\u001b[0m\u001b[1;33m[\u001b[0m\u001b[1;33m(\u001b[0m\u001b[1;36m2\u001b[0m\u001b[1;33m,\u001b[0m\u001b[1;36m5\u001b[0m\u001b[1;33m)\u001b[0m\u001b[1;33m]\u001b[0m\u001b[1;33m,\u001b[0m \u001b[1;36m1e-3\u001b[0m\u001b[1;33m,\u001b[0m \u001b[1;36m0\u001b[0m\u001b[1;33m,\u001b[0m \u001b[1;36m0\u001b[0m\u001b[1;33m)\u001b[0m\u001b[1;33m\u001b[0m\u001b[1;33m\u001b[0m\u001b[0m\n\u001b[1;32m---> 23\u001b[1;33m \u001b[0mgmsh\u001b[0m\u001b[1;33m.\u001b[0m\u001b[0mmodel\u001b[0m\u001b[1;33m.\u001b[0m\u001b[0mocc\u001b[0m\u001b[1;33m.\u001b[0m\u001b[0mfuse\u001b[0m\u001b[1;33m(\u001b[0m\u001b[0ma\u001b[0m\u001b[1;33m,\u001b[0m\u001b[1;33m[\u001b[0m\u001b[1;33m(\u001b[0m\u001b[1;36m2\u001b[0m\u001b[1;33m,\u001b[0m\u001b[1;36m1\u001b[0m\u001b[1;33m)\u001b[0m\u001b[1;33m,\u001b[0m\u001b[1;33m(\u001b[0m\u001b[1;36m2\u001b[0m\u001b[1;33m,\u001b[0m\u001b[1;36m3\u001b[0m\u001b[1;33m)\u001b[0m\u001b[1;33m]\u001b[0m\u001b[1;33m)\u001b[0m\u001b[1;33m\u001b[0m\u001b[1;33m\u001b[0m\u001b[0m\n\u001b[0m\u001b[0;32m     24\u001b[0m \u001b[1;33m\u001b[0m\u001b[0m\n\u001b[0;32m     25\u001b[0m \u001b[1;31m#Plot design in gmsh gui\u001b[0m\u001b[1;33m\u001b[0m\u001b[1;33m\u001b[0m\u001b[0m\n\u001b[0;32m     26\u001b[0m \u001b[0mpgr\u001b[0m\u001b[1;33m.\u001b[0m\u001b[0mview_design_components\u001b[0m\u001b[1;33m(\u001b[0m\u001b[1;33m)\u001b[0m\u001b[1;33m\u001b[0m\u001b[1;33m\u001b[0m\u001b[0m\n",
      "\u001b[1;32mc:\\Users\\uqdsomm1\\AppData\\Local\\anaconda3\\envs\\Gmsh_Palace_Dev_env\\Lib\\site-packages\\gmsh.py\u001b[0m in \u001b[0;36m?\u001b[1;34m(objectDimTags, toolDimTags, tag, removeObject, removeTool)\u001b[0m\n\u001b[0;32m   7963\u001b[0m                 \u001b[0mc_int\u001b[0m\u001b[1;33m(\u001b[0m\u001b[0mbool\u001b[0m\u001b[1;33m(\u001b[0m\u001b[0mremoveObject\u001b[0m\u001b[1;33m)\u001b[0m\u001b[1;33m)\u001b[0m\u001b[1;33m,\u001b[0m\u001b[1;33m\u001b[0m\u001b[1;33m\u001b[0m\u001b[0m\n\u001b[0;32m   7964\u001b[0m                 \u001b[0mc_int\u001b[0m\u001b[1;33m(\u001b[0m\u001b[0mbool\u001b[0m\u001b[1;33m(\u001b[0m\u001b[0mremoveTool\u001b[0m\u001b[1;33m)\u001b[0m\u001b[1;33m)\u001b[0m\u001b[1;33m,\u001b[0m\u001b[1;33m\u001b[0m\u001b[1;33m\u001b[0m\u001b[0m\n\u001b[0;32m   7965\u001b[0m                 byref(ierr))\n\u001b[0;32m   7966\u001b[0m             \u001b[1;32mif\u001b[0m \u001b[0mierr\u001b[0m\u001b[1;33m.\u001b[0m\u001b[0mvalue\u001b[0m \u001b[1;33m!=\u001b[0m \u001b[1;36m0\u001b[0m\u001b[1;33m:\u001b[0m\u001b[1;33m\u001b[0m\u001b[1;33m\u001b[0m\u001b[0m\n\u001b[1;32m-> 7967\u001b[1;33m                 \u001b[1;32mraise\u001b[0m \u001b[0mException\u001b[0m\u001b[1;33m(\u001b[0m\u001b[0mlogger\u001b[0m\u001b[1;33m.\u001b[0m\u001b[0mgetLastError\u001b[0m\u001b[1;33m(\u001b[0m\u001b[1;33m)\u001b[0m\u001b[1;33m)\u001b[0m\u001b[1;33m\u001b[0m\u001b[1;33m\u001b[0m\u001b[0m\n\u001b[0m\u001b[0;32m   7968\u001b[0m             return (\n\u001b[0;32m   7969\u001b[0m                 \u001b[0m_ovectorpair\u001b[0m\u001b[1;33m(\u001b[0m\u001b[0mapi_outDimTags_\u001b[0m\u001b[1;33m,\u001b[0m \u001b[0mapi_outDimTags_n_\u001b[0m\u001b[1;33m.\u001b[0m\u001b[0mvalue\u001b[0m\u001b[1;33m)\u001b[0m\u001b[1;33m,\u001b[0m\u001b[1;33m\u001b[0m\u001b[1;33m\u001b[0m\u001b[0m\n\u001b[0;32m   7970\u001b[0m                 _ovectorvectorpair(api_outDimTagsMap_, api_outDimTagsMap_n_, api_outDimTagsMap_nn_))\n",
      "\u001b[1;31mException\u001b[0m: Fuse operation cannot be performed"
     ]
    }
   ],
   "source": [
    "from SQDMetal.PALACE.SQDGmshRenderer import Palace_Gmsh_Renderer\n",
    "import gmsh\n",
    "\n",
    "#Clear data from previous model\n",
    "gmsh.model.remove()\n",
    "gmsh.finalize()\n",
    "\n",
    "#Create new Palace Gmsh Renderer object\n",
    "pgr = Palace_Gmsh_Renderer(design)\n",
    "\n",
    "#Run this only for eigenmode/RF simluation\n",
    "pgr.add_ports_on_launchpad(LP1)\n",
    "pgr.add_ports_on_launchpad(LP2)\n",
    "\n",
    "#Converts Qiskit Metal design to Gmsh geometries\n",
    "pgr.convert_design_to_gmsh()\n",
    "\n",
    "#Print the physical groups/boundary conditions\n",
    "pgr.print_physical_groups()\n",
    "\n",
    "#gmsh.model.occ.healShapes(, tolerance=1e-6)\n",
    "gmsh.model.occ.fuse([(2,5)],[(2,3)])\n",
    "\n",
    "#Plot design in gmsh gui\n",
    "pgr.view_design_components()"
   ]
  },
  {
   "cell_type": "code",
   "execution_count": 4,
   "metadata": {},
   "outputs": [
    {
     "data": {
      "text/plain": [
       "[(2, 43), (3, 3), (2, 39), (2, 40), (2, 41), (2, 42)]"
      ]
     },
     "execution_count": 4,
     "metadata": {},
     "output_type": "execute_result"
    }
   ],
   "source": [
    "a"
   ]
  },
  {
   "cell_type": "code",
   "execution_count": 3,
   "metadata": {},
   "outputs": [
    {
     "data": {
      "text/plain": [
       "[('LP1', 1),\n",
       " ('LP2', 3),\n",
       " ('TL', 5),\n",
       " ('Qubit1', 7),\n",
       " ('Qubit1', 9),\n",
       " ('Qubit1', 10),\n",
       " ('Qubit1', 12),\n",
       " ('Qubit1', 13),\n",
       " ('resonator1', 15)]"
      ]
     },
     "execution_count": 3,
     "metadata": {},
     "output_type": "execute_result"
    }
   ],
   "source": [
    "pgr.metal_surfaces"
   ]
  },
  {
   "cell_type": "markdown",
   "metadata": {},
   "source": [
    "# Mesh"
   ]
  },
  {
   "cell_type": "code",
   "execution_count": 3,
   "metadata": {},
   "outputs": [],
   "source": [
    "gmsh.option.setNumber('Mesh.MeshSizeMin',50e-3)\n",
    "gmsh.option.setNumber('Mesh.MeshSizeMax',120e-3)\n",
    "gmsh.option.setNumber('Mesh.MshFileVersion', 2.2)\n",
    "gmsh.model.mesh.generate(dim=3)\n",
    "gmsh.fltk.run()\n",
    "\n"
   ]
  },
  {
   "cell_type": "markdown",
   "metadata": {},
   "source": [
    "# Save Mesh File"
   ]
  },
  {
   "cell_type": "code",
   "execution_count": 4,
   "metadata": {},
   "outputs": [],
   "source": [
    "gmsh.write(\"transmon_cap.msh\")"
   ]
  },
  {
   "cell_type": "code",
   "execution_count": 4,
   "metadata": {},
   "outputs": [],
   "source": [
    "gmsh.fltk.run()"
   ]
  }
 ],
 "metadata": {
  "kernelspec": {
   "display_name": "Gmsh_Palace_Dev_env",
   "language": "python",
   "name": "python3"
  },
  "language_info": {
   "codemirror_mode": {
    "name": "ipython",
    "version": 3
   },
   "file_extension": ".py",
   "mimetype": "text/x-python",
   "name": "python",
   "nbconvert_exporter": "python",
   "pygments_lexer": "ipython3",
   "version": "3.11.4"
  },
  "orig_nbformat": 4
 },
 "nbformat": 4,
 "nbformat_minor": 2
}
